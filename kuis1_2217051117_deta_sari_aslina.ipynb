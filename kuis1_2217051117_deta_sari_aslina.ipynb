{
  "cells": [
    {
      "cell_type": "code",
      "execution_count": null,
      "metadata": {
        "colab": {
          "base_uri": "https://localhost:8080/"
        },
        "id": "BB364oQ6Zuqg",
        "outputId": "add58e7f-ee2e-4e5d-ecf5-c0a97a22b8ee"
      },
      "outputs": [
        {
          "name": "stdout",
          "output_type": "stream",
          "text": [
            "96\n",
            "24\n",
            "24\n"
          ]
        }
      ],
      "source": [
        "def HITUNG_FPB(A, B):\n",
        "    if A > B:\n",
        "        smaller = B\n",
        "    else:\n",
        "        smaller = A\n",
        "    for i in range(1, smaller +1):\n",
        "        if ((A % i == 0) and (B % i == 0)):\n",
        "            FPB = i\n",
        "    return FPB\n",
        "\n",
        "print(input1)\n",
        "print(input2)\n",
        "print(HITUNG_FPB(input1, input2))"
      ]
    },
    {
      "cell_type": "code",
      "execution_count": null,
      "metadata": {
        "id": "PuTSmSpPj1uB"
      },
      "outputs": [],
      "source": [
        "def HITUNG_KPK(m,n):\n",
        "    KPK=int(m*n/FPB(m,n))\n",
        "    return KPK\n",
        "\n",
        "m=int(input(\"Masukkan bilangan pertama :\"))\n",
        "n=int(input(\"Masukkan bilangan kedua   :\"))\n",
        "\n",
        "print(\"KPK dari \",m,\"dan\",n,\"adalah =\",kpk(m,n))"
      ]
    },
    {
      "cell_type": "code",
      "execution_count": null,
      "metadata": {
        "colab": {
          "background_save": true
        },
        "id": "MtRcjSLJkzhq"
      },
      "outputs": [],
      "source": [
        "def HITUNG_KPK(M,N):\n",
        "  KPK=int(m*n/HITUNG_FPB(M,N))\n",
        "  return KPK\n",
        "\n",
        "  M=int(input(\"BILANGAN 1: \"))\n",
        "  N=int(input(\"BILANGAN 2: \"))\n",
        "  print(KPK(M,N))\n"
      ]
    }
  ],
  "metadata": {
    "colab": {
      "provenance": []
    },
    "kernelspec": {
      "display_name": "Python 3",
      "name": "python3"
    },
    "language_info": {
      "name": "python"
    }
  },
  "nbformat": 4,
  "nbformat_minor": 0
}