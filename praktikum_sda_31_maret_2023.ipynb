{
  "nbformat": 4,
  "nbformat_minor": 0,
  "metadata": {
    "colab": {
      "provenance": [],
      "authorship_tag": "ABX9TyNxJcR9/RRDILNoMsa+2xYz",
      "include_colab_link": true
    },
    "kernelspec": {
      "name": "python3",
      "display_name": "Python 3"
    },
    "language_info": {
      "name": "python"
    }
  },
  "cells": [
    {
      "cell_type": "markdown",
      "metadata": {
        "id": "view-in-github",
        "colab_type": "text"
      },
      "source": [
        "<a href=\"https://colab.research.google.com/github/Detasariaslina09/SDA-semester-2/blob/main/praktikum_sda_31_maret_2023.ipynb\" target=\"_parent\"><img src=\"https://colab.research.google.com/assets/colab-badge.svg\" alt=\"Open In Colab\"/></a>"
      ]
    },
    {
      "cell_type": "code",
      "execution_count": null,
      "metadata": {
        "colab": {
          "base_uri": "https://localhost:8080/"
        },
        "id": "YsacQDptcyvL",
        "outputId": "09f6c245-8f86-43a5-b6da-b8b495956c4c"
      },
      "outputs": [
        {
          "output_type": "stream",
          "name": "stdout",
          "text": [
            "['annisa', 'latifah', 'vidya', 'billa']\n",
            "4\n"
          ]
        }
      ],
      "source": [
        "nama_asdos = ['annisa', 'latifah', 'vidya', 'billa']\n",
        "print(nama_asdos)\n",
        "#panjang list\n",
        "print(len(nama_asdos))"
      ]
    },
    {
      "cell_type": "code",
      "source": [
        "#akses isi list melalui index\n",
        "print(nama_asdos[0])\n",
        "print(nama_asdos[1])\n",
        "print(nama_asdos[-1])\n",
        "print(nama_asdos[-2])\n"
      ],
      "metadata": {
        "colab": {
          "base_uri": "https://localhost:8080/"
        },
        "id": "JOQSDG31ddjN",
        "outputId": "37bbc7b5-9ae9-4359-da96-f71fd29e292d"
      },
      "execution_count": null,
      "outputs": [
        {
          "output_type": "stream",
          "name": "stdout",
          "text": [
            "annisa\n",
            "latifah\n",
            "billa\n",
            "vidya\n"
          ]
        }
      ]
    },
    {
      "cell_type": "code",
      "source": [
        "#mengganti isi list\n",
        "print('sebelum diganti : ',nama_asdos)\n",
        "nama_asdos[1] = 'putri'\n",
        "nama_asdos[2] = 'sinta'\n",
        "print('setelah diganti : ', nama_asdos)"
      ],
      "metadata": {
        "colab": {
          "base_uri": "https://localhost:8080/"
        },
        "id": "0MC7kUADeLFi",
        "outputId": "f1d9d35d-0ba7-412b-9e79-6a2cd85933f4"
      },
      "execution_count": null,
      "outputs": [
        {
          "output_type": "stream",
          "name": "stdout",
          "text": [
            "sebelum diganti :  ['annisa', 'latifah', 'vidya', 'billa']\n",
            "setelah diganti :  ['annisa', 'putri', 'sinta', 'billa']\n"
          ]
        }
      ]
    },
    {
      "cell_type": "code",
      "source": [
        "#menjumlahkan isi list\n",
        "nama_asdos_lagi = ['nia','ikhsan','ayuni', 'naufal']\n",
        "a = nama_asdos + nama_asdos_lagi\n",
        "print(a)"
      ],
      "metadata": {
        "colab": {
          "base_uri": "https://localhost:8080/"
        },
        "id": "LUBiHTqWe6Nr",
        "outputId": "3fbe859a-4baa-4497-e3f0-4d5168f23261"
      },
      "execution_count": null,
      "outputs": [
        {
          "output_type": "stream",
          "name": "stdout",
          "text": [
            "['annisa', 'putri', 'sinta', 'billa', 'nia', 'ikhsan', 'ayuni', 'naufal']\n"
          ]
        }
      ]
    },
    {
      "cell_type": "code",
      "source": [
        "#memeriksa apakaj suatu nilai ada dalam list\n",
        "'vidya' in nama_asdos"
      ],
      "metadata": {
        "colab": {
          "base_uri": "https://localhost:8080/"
        },
        "id": "NIhO0svQfqQ_",
        "outputId": "3f58cf84-05b1-4a5f-8529-f9b75edabd59"
      },
      "execution_count": null,
      "outputs": [
        {
          "output_type": "execute_result",
          "data": {
            "text/plain": [
              "False"
            ]
          },
          "metadata": {},
          "execution_count": 7
        }
      ]
    },
    {
      "cell_type": "code",
      "source": [
        "#iterasi list\n",
        "for i in nama_asdos :\n",
        "  print(i)"
      ],
      "metadata": {
        "colab": {
          "base_uri": "https://localhost:8080/"
        },
        "id": "lxVvh_i-gE1D",
        "outputId": "46fe86c8-a7d6-4b3a-e186-6bdf3575e580"
      },
      "execution_count": null,
      "outputs": [
        {
          "output_type": "stream",
          "name": "stdout",
          "text": [
            "annisa\n",
            "putri\n",
            "sinta\n",
            "billa\n"
          ]
        }
      ]
    },
    {
      "cell_type": "code",
      "source": [
        "#mengambil bagian\n",
        "print(nama_asdos)"
      ],
      "metadata": {
        "id": "bsQ6N-TEg4-2"
      },
      "execution_count": null,
      "outputs": []
    },
    {
      "cell_type": "code",
      "source": [
        "nama_asdos.append(3)\n",
        "print(nama_asdos)"
      ],
      "metadata": {
        "colab": {
          "base_uri": "https://localhost:8080/"
        },
        "id": "8AF8A9AUhNE3",
        "outputId": "49cdca4a-e69a-4a22-8357-f46fdec3310b"
      },
      "execution_count": null,
      "outputs": [
        {
          "output_type": "stream",
          "name": "stdout",
          "text": [
            "['annisa', 'putri', 'sinta', 'billa', 3]\n"
          ]
        }
      ]
    },
    {
      "cell_type": "code",
      "source": [
        "nama_asdos.insert(3, 'aisyah')\n",
        "nama_asdos\n"
      ],
      "metadata": {
        "colab": {
          "base_uri": "https://localhost:8080/"
        },
        "id": "W-YfqNsvho3Y",
        "outputId": "ed5b7f53-96a8-433a-e139-55c610335a6f"
      },
      "execution_count": null,
      "outputs": [
        {
          "output_type": "execute_result",
          "data": {
            "text/plain": [
              "['annisa', 'putri', 'sinta', 'aisyah', 'billa', 3]"
            ]
          },
          "metadata": {},
          "execution_count": 12
        }
      ]
    },
    {
      "cell_type": "code",
      "source": [
        "x = nama_asdos.count('nabillah')\n",
        "print(x)"
      ],
      "metadata": {
        "colab": {
          "base_uri": "https://localhost:8080/"
        },
        "id": "z8W7mPymiBoz",
        "outputId": "07ac275f-d060-4be3-cd15-8bd5de7cbf38"
      },
      "execution_count": null,
      "outputs": [
        {
          "output_type": "stream",
          "name": "stdout",
          "text": [
            "0\n"
          ]
        }
      ]
    },
    {
      "cell_type": "code",
      "source": [
        "x = nama_asdos.count('aisyah')\n",
        "print(x)"
      ],
      "metadata": {
        "colab": {
          "base_uri": "https://localhost:8080/"
        },
        "id": "HTCzKhSGiK8x",
        "outputId": "8e54f4c0-6a76-4509-ae74-a4c41da37b46"
      },
      "execution_count": null,
      "outputs": [
        {
          "output_type": "stream",
          "name": "stdout",
          "text": [
            "1\n"
          ]
        }
      ]
    },
    {
      "cell_type": "code",
      "source": [
        "x = nama_asdos.pop(3)\n",
        "print(x)"
      ],
      "metadata": {
        "colab": {
          "base_uri": "https://localhost:8080/"
        },
        "id": "CZdIL5FTiQVA",
        "outputId": "2845d99f-a9d9-4586-dad9-6dfe3dea1b8e"
      },
      "execution_count": null,
      "outputs": [
        {
          "output_type": "stream",
          "name": "stdout",
          "text": [
            "aisyah\n"
          ]
        }
      ]
    },
    {
      "cell_type": "code",
      "source": [
        "nama_asdos.remove('annisa')\n",
        "print(nama_asdos)"
      ],
      "metadata": {
        "colab": {
          "base_uri": "https://localhost:8080/"
        },
        "id": "LiVWJC4LidnW",
        "outputId": "056e90bc-42c1-43e2-ec89-7401855f1f53"
      },
      "execution_count": null,
      "outputs": [
        {
          "output_type": "stream",
          "name": "stdout",
          "text": [
            "[3, 'billa', 'sinta', 'putri']\n"
          ]
        }
      ]
    },
    {
      "cell_type": "code",
      "source": [
        "nama_asdos.reverse()\n",
        "print(nama_asdos)"
      ],
      "metadata": {
        "colab": {
          "base_uri": "https://localhost:8080/"
        },
        "id": "T4A2xqnUj2tt",
        "outputId": "983e6861-f5aa-4b86-c794-cc6039df0f60"
      },
      "execution_count": null,
      "outputs": [
        {
          "output_type": "stream",
          "name": "stdout",
          "text": [
            "[3, 'billa', 'sinta', 'putri', 'annisa']\n"
          ]
        }
      ]
    },
    {
      "cell_type": "code",
      "source": [
        "string = 'nabillah'\n",
        "print(max(string))"
      ],
      "metadata": {
        "colab": {
          "base_uri": "https://localhost:8080/"
        },
        "id": "1X6Wq_o1lYFu",
        "outputId": "1ac3ac2e-28e3-4ecc-8989-c5d0164b8d42"
      },
      "execution_count": null,
      "outputs": [
        {
          "output_type": "stream",
          "name": "stdout",
          "text": [
            "n\n"
          ]
        }
      ]
    },
    {
      "cell_type": "code",
      "source": [
        "string = 'nabillah'\n",
        "print(min(string))"
      ],
      "metadata": {
        "colab": {
          "base_uri": "https://localhost:8080/"
        },
        "id": "5SXd0amrllNd",
        "outputId": "78217911-a776-4e79-f44e-10ad7af5552d"
      },
      "execution_count": null,
      "outputs": [
        {
          "output_type": "stream",
          "name": "stdout",
          "text": [
            "a\n"
          ]
        }
      ]
    },
    {
      "cell_type": "code",
      "source": [
        "print(nama_asdos)\n"
      ],
      "metadata": {
        "colab": {
          "base_uri": "https://localhost:8080/"
        },
        "id": "1BUQwxr0kvF4",
        "outputId": "403d70b0-bb08-4182-a39e-9e7de90bd392"
      },
      "execution_count": null,
      "outputs": [
        {
          "output_type": "stream",
          "name": "stdout",
          "text": [
            "[3, 'billa', 'sinta', 'putri', 'annisa']\n"
          ]
        }
      ]
    },
    {
      "cell_type": "code",
      "source": [
        "mahasiswa = ('kurnia','siti','ikhsan','naufal')\n",
        "print(mahasiswa)"
      ],
      "metadata": {
        "colab": {
          "base_uri": "https://localhost:8080/"
        },
        "id": "KlaJ6eoWlz4V",
        "outputId": "3cf7d569-0eb6-4e9f-efc9-ab63f392e182"
      },
      "execution_count": null,
      "outputs": [
        {
          "output_type": "stream",
          "name": "stdout",
          "text": [
            "('kurnia', 'siti', 'ikhsan', 'naufal')\n"
          ]
        }
      ]
    },
    {
      "cell_type": "code",
      "source": [
        "mahasiswa = ('kurnia','siti','ikhsan','naufal')\n",
        "mahasiswa[1] = 'ayuni'"
      ],
      "metadata": {
        "colab": {
          "base_uri": "https://localhost:8080/",
          "height": 182
        },
        "id": "wTw5hSQzmGIx",
        "outputId": "502ab34c-0e79-45ab-f3c9-5ff71d3f0090"
      },
      "execution_count": null,
      "outputs": [
        {
          "output_type": "error",
          "ename": "TypeError",
          "evalue": "ignored",
          "traceback": [
            "\u001b[0;31m---------------------------------------------------------------------------\u001b[0m",
            "\u001b[0;31mTypeError\u001b[0m                                 Traceback (most recent call last)",
            "\u001b[0;32m<ipython-input-28-674fed9995b0>\u001b[0m in \u001b[0;36m<cell line: 2>\u001b[0;34m()\u001b[0m\n\u001b[1;32m      1\u001b[0m \u001b[0mmahasiswa\u001b[0m \u001b[0;34m=\u001b[0m \u001b[0;34m(\u001b[0m\u001b[0;34m'kurnia'\u001b[0m\u001b[0;34m,\u001b[0m\u001b[0;34m'siti'\u001b[0m\u001b[0;34m,\u001b[0m\u001b[0;34m'ikhsan'\u001b[0m\u001b[0;34m,\u001b[0m\u001b[0;34m'naufal'\u001b[0m\u001b[0;34m)\u001b[0m\u001b[0;34m\u001b[0m\u001b[0;34m\u001b[0m\u001b[0m\n\u001b[0;32m----> 2\u001b[0;31m \u001b[0mmahasiswa\u001b[0m\u001b[0;34m[\u001b[0m\u001b[0;36m1\u001b[0m\u001b[0;34m]\u001b[0m \u001b[0;34m=\u001b[0m \u001b[0;34m'ayuni'\u001b[0m\u001b[0;34m\u001b[0m\u001b[0;34m\u001b[0m\u001b[0m\n\u001b[0m",
            "\u001b[0;31mTypeError\u001b[0m: 'tuple' object does not support item assignment"
          ]
        }
      ]
    },
    {
      "cell_type": "code",
      "source": [
        "mahasiswa = ('kurnia','siti','ikhsan','naufal')\n",
        "print(mahasiswa)\n",
        "#panjang tuple\n",
        "print(len(mahasiswa))"
      ],
      "metadata": {
        "colab": {
          "base_uri": "https://localhost:8080/"
        },
        "id": "9QX5Ugb4m4-b",
        "outputId": "985f0353-50e1-492f-e6e4-a1ae9c2062b0"
      },
      "execution_count": null,
      "outputs": [
        {
          "output_type": "stream",
          "name": "stdout",
          "text": [
            "('kurnia', 'siti', 'ikhsan', 'naufal')\n",
            "4\n"
          ]
        }
      ]
    },
    {
      "cell_type": "code",
      "source": [
        "mahasiswa = (\"Kurnia\", \"Siti\", \"Ikhsan\", \"Naufal\")\n",
        "print(mahasiswa)\n",
        "# Panjang Tuple\n",
        "print(len(mahasiswa))\n",
        "# Menjumlahkan Tuple (Concatenation)\n",
        "mahasiswa_lagi = (\"Vidya\", \"Annisa\", \"Billa\", \"Lathifah\")\n",
        "A = mahasiswa + mahasiswa_lagi\n",
        "print(A)\n"
      ],
      "metadata": {
        "colab": {
          "base_uri": "https://localhost:8080/"
        },
        "id": "HEGVj19NnMCw",
        "outputId": "06452e49-e9e3-4101-89c2-2fc341b9f441"
      },
      "execution_count": null,
      "outputs": [
        {
          "output_type": "stream",
          "name": "stdout",
          "text": [
            "('Kurnia', 'Siti', 'Ikhsan', 'Naufal')\n",
            "4\n",
            "('Kurnia', 'Siti', 'Ikhsan', 'Naufal', 'Vidya', 'Annisa', 'Billa', 'Lathifah')\n"
          ]
        }
      ]
    },
    {
      "cell_type": "code",
      "source": [
        "# Mengganti isi Tuple \n",
        "y = list(mahasiswa)\n",
        "y[1] = \"Nabillah\"\n",
        "mahasiswa = tuple(y)\n",
        "print(mahasiswa)"
      ],
      "metadata": {
        "colab": {
          "base_uri": "https://localhost:8080/"
        },
        "id": "TF2GQLmSnQqX",
        "outputId": "3ceda66d-1510-4f4a-db62-2d11ae89b42e"
      },
      "execution_count": null,
      "outputs": [
        {
          "output_type": "stream",
          "name": "stdout",
          "text": [
            "('Kurnia', 'Nabillah', 'Ikhsan', 'Naufal')\n"
          ]
        }
      ]
    },
    {
      "cell_type": "code",
      "source": [
        "# Menambah isi Tuple\n",
        "y = list(mahasiswa)\n",
        "y.append(\"Vidya\")\n",
        "mahasiswa = tuple(y)\n",
        "print(mahasiswa)"
      ],
      "metadata": {
        "colab": {
          "base_uri": "https://localhost:8080/"
        },
        "id": "Mi29w9TVnUUh",
        "outputId": "00e14ff9-db24-462a-e149-2959dc319eaa"
      },
      "execution_count": null,
      "outputs": [
        {
          "output_type": "stream",
          "name": "stdout",
          "text": [
            "('Kurnia', 'Nabillah', 'Ikhsan', 'Naufal', 'Vidya')\n"
          ]
        }
      ]
    }
  ]
}