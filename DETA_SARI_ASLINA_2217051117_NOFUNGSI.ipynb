{
  "nbformat": 4,
  "nbformat_minor": 0,
  "metadata": {
    "colab": {
      "provenance": []
    },
    "kernelspec": {
      "name": "python3",
      "display_name": "Python 3"
    },
    "language_info": {
      "name": "python"
    }
  },
  "cells": [
    {
      "cell_type": "code",
      "execution_count": null,
      "metadata": {
        "colab": {
          "base_uri": "https://localhost:8080/"
        },
        "id": "zqsP8QTGaP0h",
        "outputId": "48e4f5ac-571d-422a-a20b-4e1d34ffa11a"
      },
      "outputs": [
        {
          "output_type": "stream",
          "name": "stdout",
          "text": [
            "tuliskan jumlah bilangan: 10\n",
            "[0, 1, 1, 2, 3, 5, 8, 13, 21, 34]\n"
          ]
        }
      ],
      "source": [
        "banyak_bilangan = int(input('tuliskan jumlah bilangan: '))\n",
        "count = 0\n",
        "A1 = 0\n",
        "A2 = 1\n",
        " \n",
        "list_fibonacci = []\n",
        "while count < banyak_bilangan:\n",
        "   list_fibonacci.append(A1)\n",
        "   bilangan_terakhir = A1 + A2\n",
        "   A1 = A2\n",
        "   A2 = bilangan_terakhir\n",
        "   count += 1\n",
        "   \n",
        "print(list_fibonacci)"
      ]
    }
  ]
}