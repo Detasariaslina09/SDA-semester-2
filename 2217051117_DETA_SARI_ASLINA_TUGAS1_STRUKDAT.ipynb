{
  "nbformat": 4,
  "nbformat_minor": 0,
  "metadata": {
    "colab": {
      "provenance": [],
      "authorship_tag": "ABX9TyMcdVyQxhxqfO6v1B9IPfsC",
      "include_colab_link": true
    },
    "kernelspec": {
      "name": "python3",
      "display_name": "Python 3"
    },
    "language_info": {
      "name": "python"
    },
    "accelerator": "GPU",
    "gpuClass": "standard"
  },
  "cells": [
    {
      "cell_type": "markdown",
      "metadata": {
        "id": "view-in-github",
        "colab_type": "text"
      },
      "source": [
        "<a href=\"https://colab.research.google.com/github/Detasariaslina09/SDA-semester-2/blob/main/2217051117_DETA_SARI_ASLINA_TUGAS1_STRUKDAT.ipynb\" target=\"_parent\"><img src=\"https://colab.research.google.com/assets/colab-badge.svg\" alt=\"Open In Colab\"/></a>"
      ]
    },
    {
      "cell_type": "code",
      "source": [
        "zodiak  = [ \"dragon\" , \"snake\" , \"horse\" , \"sheep\" , \"Monkey\" , \"rooster\" , \"dog\" , \"pig\" , \" rat\", \"ox\" , \" tiger \" , \"rabbit \" ]\n",
        "tahun  =  int ( input ( \"Masukan Tahun lahir anda : \" ))\n",
        "hasil  = ( tahun  -  8 ) %  12\n",
        "\n",
        "print ( f\"tahun {tahun} , zodiak cina anda adalah { zodiak [ hasil ] } \")\n"
      ],
      "metadata": {
        "id": "z_xYfNfIjzAV"
      },
      "execution_count": null,
      "outputs": []
    },
    {
      "cell_type": "code",
      "source": [
        "umur = int(input(\"Masukan umur anda : \"))\n",
        "\n",
        "denyut_max= int(206.9 - (0.67 * umur))\n",
        "print(\"Denyut jantung maksimum anda adalah\", denyut_max)\n",
        "target = int(0.65 * denyut_max)\n",
        "print(\"Target detak jantung anda adalah \", target)\n"
      ],
      "metadata": {
        "id": "XEzgPwlamNOE"
      },
      "execution_count": null,
      "outputs": []
    },
    {
      "cell_type": "code",
      "source": [
        "bil = input(\"Masukan bilangan yang dipisahkan spasi : \")\n",
        "bil = bil.split()\n",
        "bil = [int(y) for y in bil]\n",
        "\n",
        "max = bil[0]\n",
        "min = bil[0]\n",
        "for y in bil:\n",
        "    if y > max:\n",
        "        max = y\n",
        "    if y < min:\n",
        "        min = y\n",
        "print(\"bilangan maximum  adalah\", max)\n",
        "print(\"bilangan minimum  adalah\", min)"
      ],
      "metadata": {
        "id": "K_u9FUBkmdiu"
      },
      "execution_count": null,
      "outputs": []
    }
  ]
}